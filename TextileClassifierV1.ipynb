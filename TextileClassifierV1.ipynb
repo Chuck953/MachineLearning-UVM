{
 "cells": [
  {
   "cell_type": "code",
   "execution_count": 47,
   "id": "6b87c6db",
   "metadata": {},
   "outputs": [],
   "source": [
    "import os\n",
    "import tensorflow as tf\n",
    "import numpy as np\n",
    "import pandas as pd\n",
    "import h5py\n",
    "import matplotlib.pyplot as plt\n",
    "from sklearn.metrics import classification_report\n",
    "from sklearn.metrics import f1_score\n",
    "import plotly.express as px\n",
    "from tqdm import tqdm\n",
    "from tensorflow.keras.models import Sequential\n",
    "from tensorflow.keras import layers"
   ]
  },
  {
   "cell_type": "code",
   "execution_count": 48,
   "id": "d0932f43",
   "metadata": {},
   "outputs": [
    {
     "data": {
      "text/html": [
       "<div>\n",
       "<style scoped>\n",
       "    .dataframe tbody tr th:only-of-type {\n",
       "        vertical-align: middle;\n",
       "    }\n",
       "\n",
       "    .dataframe tbody tr th {\n",
       "        vertical-align: top;\n",
       "    }\n",
       "\n",
       "    .dataframe thead th {\n",
       "        text-align: right;\n",
       "    }\n",
       "</style>\n",
       "<table border=\"1\" class=\"dataframe\">\n",
       "  <thead>\n",
       "    <tr style=\"text-align: right;\">\n",
       "      <th></th>\n",
       "      <th>index</th>\n",
       "      <th>angle</th>\n",
       "      <th>indication_type</th>\n",
       "      <th>indication_value</th>\n",
       "      <th>split</th>\n",
       "    </tr>\n",
       "  </thead>\n",
       "  <tbody>\n",
       "    <tr>\n",
       "      <th>0</th>\n",
       "      <td>48000</td>\n",
       "      <td>40</td>\n",
       "      <td>good</td>\n",
       "      <td>0</td>\n",
       "      <td>train</td>\n",
       "    </tr>\n",
       "    <tr>\n",
       "      <th>1</th>\n",
       "      <td>48001</td>\n",
       "      <td>60</td>\n",
       "      <td>good</td>\n",
       "      <td>0</td>\n",
       "      <td>train</td>\n",
       "    </tr>\n",
       "    <tr>\n",
       "      <th>2</th>\n",
       "      <td>48002</td>\n",
       "      <td>20</td>\n",
       "      <td>good</td>\n",
       "      <td>0</td>\n",
       "      <td>train</td>\n",
       "    </tr>\n",
       "    <tr>\n",
       "      <th>3</th>\n",
       "      <td>48003</td>\n",
       "      <td>40</td>\n",
       "      <td>good</td>\n",
       "      <td>0</td>\n",
       "      <td>train</td>\n",
       "    </tr>\n",
       "    <tr>\n",
       "      <th>4</th>\n",
       "      <td>48004</td>\n",
       "      <td>20</td>\n",
       "      <td>good</td>\n",
       "      <td>0</td>\n",
       "      <td>train</td>\n",
       "    </tr>\n",
       "  </tbody>\n",
       "</table>\n",
       "</div>"
      ],
      "text/plain": [
       "   index  angle indication_type  indication_value  split\n",
       "0  48000     40            good                 0  train\n",
       "1  48001     60            good                 0  train\n",
       "2  48002     20            good                 0  train\n",
       "3  48003     40            good                 0  train\n",
       "4  48004     20            good                 0  train"
      ]
     },
     "execution_count": 48,
     "metadata": {},
     "output_type": "execute_result"
    }
   ],
   "source": [
    "# load the `train32.csv` file\n",
    "path_to_data = \"C:\\\\Users\\\\Marko\\\\Downloads\\\\archive\\\\\"\n",
    "train_df32 = pd.read_csv(path_to_data + \"train32.csv\")\n",
    "\n",
    "def convert_indication_type(row):\n",
    "    if row != \"good\":\n",
    "        return \"damaged\"\n",
    "    else:\n",
    "        return \"good\"\n",
    "\n",
    "def convert_indication_value(row):\n",
    "    if row != 0:\n",
    "        return 1\n",
    "    else:\n",
    "        return 0\n",
    "\n",
    "train_df32[\"indication_type\"] = train_df32[\"indication_type\"].apply(convert_indication_type)\n",
    "train_df32[\"indication_value\"] = train_df32[\"indication_value\"].apply(convert_indication_value)\n",
    "train_df32.head()"
   ]
  },
  {
   "cell_type": "code",
   "execution_count": 49,
   "id": "2a02d684",
   "metadata": {},
   "outputs": [
    {
     "data": {
      "text/plain": [
       "indication_type\n",
       "damaged    0.83\n",
       "good       0.17\n",
       "Name: proportion, dtype: float64"
      ]
     },
     "execution_count": 49,
     "metadata": {},
     "output_type": "execute_result"
    }
   ],
   "source": [
    "train_df32.indication_type.value_counts(normalize=True).round(2)"
   ]
  },
  {
   "cell_type": "code",
   "execution_count": null,
   "id": "76baaa61",
   "metadata": {},
   "outputs": [],
   "source": [
    "# create an object that will take the dataset and produce the dataset in a format required for tensorflow dataset's API\n",
    "class H5ToStorage:\n",
    "  def __init__(self, hdf_path, ds_name=\"train\"):\n",
    "    self.path = hdf_path\n",
    "\n",
    "    self.classes = []\n",
    "    with h5py.File(self.path, 'r') as hf:\n",
    "      for class_ in hf:\n",
    "        self.classes.append(class_)\n",
    "\n",
    "    self.name = ds_name\n",
    "\n",
    "  # a generator to load the (img, class, angle)\n",
    "  def generate_img_arr(self):\n",
    "    for class_ in self.classes:\n",
    "      with h5py.File(self.path, 'r') as hf:\n",
    "        for angle in hf[class_]:\n",
    "            for img in hf[class_][f\"{angle}\"]:\n",
    "                yield img, class_, angle\n",
    "  \n",
    "  # utilize the generator to create new images and load it back to Storage\n",
    "  def generate_train_dirs(self):\n",
    "    path = f\"./dataset/{self.name}\"\n",
    "    os.makedirs(f\"{path}/good/\")\n",
    "    os.makedirs(f\"{path}/damaged/\")\n",
    "\n",
    "    gen = self.generate_img_arr()\n",
    "    metadata = {}\n",
    "\n",
    "    for i, data in enumerate(gen):\n",
    "        img, label, angle = data\n",
    "        if label == \"good\":\n",
    "          for j in range(4):\n",
    "            img_path = f\"{path}/good/{i}.jpeg\"\n",
    "        else:\n",
    "          img_path = f\"{path}/damaged/{i}.jpeg\"\n",
    "          \n",
    "        plt.imsave(img_path, np.squeeze(img)*255., cmap=\"gray\")\n",
    "        metadata[img_path] = angle\n",
    "    return metadata\n",
    "\n",
    "  def generate_test_dirs(self):\n",
    "    path = f\"./dataset/{self.name}\"\n",
    "    os.makedirs(f\"{path}/good/\")\n",
    "    os.makedirs(f\"{path}/damaged/\")\n",
    "\n",
    "    gen = self.generate_img_arr()\n",
    "    metadata = {}\n",
    "\n",
    "    for i, data in enumerate(gen):\n",
    "        img, label, angle = data\n",
    "        if label == \"good\":\n",
    "          img_path = f\"{path}/{label}/{i}.jpeg\"\n",
    "          plt.imsave(img_path, np.squeeze(img)*255., cmap=\"gray\")\n",
    "        else:\n",
    "          img_path = f\"{path}/damaged/{i}.jpeg\"\n",
    "          plt.imsave(img_path, np.squeeze(img)*255., cmap=\"gray\")\n",
    "\n",
    "        metadata[img_path] = angle\n",
    "\n",
    "    return metadata\n",
    "\n",
    "  def to_storage(self):\n",
    "    if self.name == \"train\":\n",
    "      self.generate_train_dirs()\n",
    "\n",
    "    elif self.name == \"test\":\n",
    "      self.generate_test_dirs()"
   ]
  },
  {
   "cell_type": "code",
   "execution_count": 51,
   "id": "8848f912",
   "metadata": {},
   "outputs": [],
   "source": [
    "# generate train data\n",
    "train_gen = H5ToStorage(path_to_data + \"matchingtDATASET_train_32.h5\", \"train\")\n",
    "train_dict = train_gen.to_storage()"
   ]
  },
  {
   "cell_type": "code",
   "execution_count": 52,
   "id": "13decae7",
   "metadata": {},
   "outputs": [],
   "source": [
    "\n",
    "# generate test data\n",
    "test_gen = H5ToStorage(path_to_data + \"matchingtDATASET_test_32.h5\", \"test\")\n",
    "test_dict = test_gen.to_storage()"
   ]
  },
  {
   "cell_type": "code",
   "execution_count": 53,
   "id": "ce433f27",
   "metadata": {},
   "outputs": [],
   "source": [
    "\n",
    "# train data & test data paths\n",
    "test_dir = \"dataset/test\"\n",
    "train_dir = \"dataset/train\""
   ]
  },
  {
   "cell_type": "code",
   "execution_count": null,
   "id": "5546a4c9",
   "metadata": {},
   "outputs": [
    {
     "name": "stdout",
     "output_type": "stream",
     "text": [
      "Found 72000 files belonging to 2 classes.\n",
      "Using 57600 files for training.\n",
      "The class_names are as follows: ['damaged', 'good']\n",
      "Found 72000 files belonging to 2 classes.\n",
      "Using 14400 files for validation.\n",
      "Found 36000 files belonging to 2 classes.\n"
     ]
    }
   ],
   "source": [
    "# create train data pipeline\n",
    "IMG_SIZE = (32, 32)\n",
    "train_data = tf.keras.utils.image_dataset_from_directory(directory=train_dir,\n",
    "                                                         image_size=IMG_SIZE,\n",
    "                                                         validation_split=0.2,   # 20 % Validation\n",
    "                                                         subset=\"training\",\n",
    "                                                         seed=123,\n",
    "                                                         color_mode=\"grayscale\",\n",
    "                                                         label_mode=\"int\",\n",
    "                                                         batch_size=32)\n",
    "# classes in train_data\n",
    "class_names = train_data.class_names\n",
    "print(f\"The class_names are as follows: {class_names}\")\n",
    "\n",
    "train_data = train_data.prefetch(buffer_size=tf.data.AUTOTUNE).\\\n",
    "                        cache()\n",
    "\n",
    "\n",
    "val_data = tf.keras.utils.image_dataset_from_directory(\n",
    "    directory=train_dir,\n",
    "    validation_split=0.2,\n",
    "    subset=\"validation\",\n",
    "    seed=123,\n",
    "    image_size=IMG_SIZE,\n",
    "    color_mode=\"grayscale\",\n",
    "    label_mode=\"int\",\n",
    "    batch_size=32\n",
    ")\n",
    "\n",
    "val_data = val_data.prefetch(buffer_size=tf.data.AUTOTUNE).\\\n",
    "                        cache()\n",
    "\n",
    "# create test data pipeline\n",
    "test_data = tf.keras.utils.image_dataset_from_directory(directory=test_dir,\n",
    "                                                        image_size=IMG_SIZE,\n",
    "                                                        color_mode=\"grayscale\",\n",
    "                                                        shuffle=False,\n",
    "                                                        batch_size=32,\n",
    "                                                        label_mode=\"int\")\n",
    "\n",
    "test_data = test_data.prefetch(buffer_size=tf.data.AUTOTUNE).\\\n",
    "                      cache() "
   ]
  },
  {
   "cell_type": "code",
   "execution_count": 55,
   "id": "f651e993",
   "metadata": {},
   "outputs": [
    {
     "name": "stderr",
     "output_type": "stream",
     "text": [
      "c:\\Users\\Marko\\AppData\\Local\\Programs\\Python\\Python310\\lib\\site-packages\\keras\\src\\layers\\preprocessing\\tf_data_layer.py:19: UserWarning: Do not pass an `input_shape`/`input_dim` argument to a layer. When using Sequential models, prefer using an `Input(shape)` object as the first layer in the model instead.\n",
      "  super().__init__(**kwargs)\n"
     ]
    }
   ],
   "source": [
    "\n",
    "num_classes = len(class_names)\n",
    "\n",
    "model = Sequential([\n",
    "  layers.Rescaling(1./255, input_shape=(32, 32, 1)),\n",
    "  layers.Conv2D(16, 3, padding='same', activation='relu'),\n",
    "  layers.MaxPooling2D(),\n",
    "  layers.Conv2D(32, 3, padding='same', activation='relu'),\n",
    "  layers.MaxPooling2D(),\n",
    "  layers.Conv2D(64, 3, padding='same', activation='relu'),\n",
    "  layers.MaxPooling2D(),\n",
    "  layers.Flatten(),\n",
    "  layers.Dense(128, activation='relu'),\n",
    "  layers.Dense(1, activation='sigmoid')\n",
    "  ])\n",
    "\n",
    "\n"
   ]
  },
  {
   "cell_type": "code",
   "execution_count": 56,
   "id": "e0571042",
   "metadata": {},
   "outputs": [],
   "source": [
    "model.compile(optimizer='adam',\n",
    "              loss='binary_crossentropy',\n",
    "              metrics=['accuracy'])\n"
   ]
  },
  {
   "cell_type": "code",
   "execution_count": 57,
   "id": "4241266a",
   "metadata": {},
   "outputs": [
    {
     "data": {
      "text/html": [
       "<pre style=\"white-space:pre;overflow-x:auto;line-height:normal;font-family:Menlo,'DejaVu Sans Mono',consolas,'Courier New',monospace\"><span style=\"font-weight: bold\">Model: \"sequential_3\"</span>\n",
       "</pre>\n"
      ],
      "text/plain": [
       "\u001b[1mModel: \"sequential_3\"\u001b[0m\n"
      ]
     },
     "metadata": {},
     "output_type": "display_data"
    },
    {
     "data": {
      "text/html": [
       "<pre style=\"white-space:pre;overflow-x:auto;line-height:normal;font-family:Menlo,'DejaVu Sans Mono',consolas,'Courier New',monospace\">┏━━━━━━━━━━━━━━━━━━━━━━━━━━━━━━━━━┳━━━━━━━━━━━━━━━━━━━━━━━━┳━━━━━━━━━━━━━━━┓\n",
       "┃<span style=\"font-weight: bold\"> Layer (type)                    </span>┃<span style=\"font-weight: bold\"> Output Shape           </span>┃<span style=\"font-weight: bold\">       Param # </span>┃\n",
       "┡━━━━━━━━━━━━━━━━━━━━━━━━━━━━━━━━━╇━━━━━━━━━━━━━━━━━━━━━━━━╇━━━━━━━━━━━━━━━┩\n",
       "│ rescaling_3 (<span style=\"color: #0087ff; text-decoration-color: #0087ff\">Rescaling</span>)         │ (<span style=\"color: #00d7ff; text-decoration-color: #00d7ff\">None</span>, <span style=\"color: #00af00; text-decoration-color: #00af00\">32</span>, <span style=\"color: #00af00; text-decoration-color: #00af00\">32</span>, <span style=\"color: #00af00; text-decoration-color: #00af00\">1</span>)      │             <span style=\"color: #00af00; text-decoration-color: #00af00\">0</span> │\n",
       "├─────────────────────────────────┼────────────────────────┼───────────────┤\n",
       "│ conv2d_9 (<span style=\"color: #0087ff; text-decoration-color: #0087ff\">Conv2D</span>)               │ (<span style=\"color: #00d7ff; text-decoration-color: #00d7ff\">None</span>, <span style=\"color: #00af00; text-decoration-color: #00af00\">32</span>, <span style=\"color: #00af00; text-decoration-color: #00af00\">32</span>, <span style=\"color: #00af00; text-decoration-color: #00af00\">16</span>)     │           <span style=\"color: #00af00; text-decoration-color: #00af00\">160</span> │\n",
       "├─────────────────────────────────┼────────────────────────┼───────────────┤\n",
       "│ max_pooling2d_9 (<span style=\"color: #0087ff; text-decoration-color: #0087ff\">MaxPooling2D</span>)  │ (<span style=\"color: #00d7ff; text-decoration-color: #00d7ff\">None</span>, <span style=\"color: #00af00; text-decoration-color: #00af00\">16</span>, <span style=\"color: #00af00; text-decoration-color: #00af00\">16</span>, <span style=\"color: #00af00; text-decoration-color: #00af00\">16</span>)     │             <span style=\"color: #00af00; text-decoration-color: #00af00\">0</span> │\n",
       "├─────────────────────────────────┼────────────────────────┼───────────────┤\n",
       "│ conv2d_10 (<span style=\"color: #0087ff; text-decoration-color: #0087ff\">Conv2D</span>)              │ (<span style=\"color: #00d7ff; text-decoration-color: #00d7ff\">None</span>, <span style=\"color: #00af00; text-decoration-color: #00af00\">16</span>, <span style=\"color: #00af00; text-decoration-color: #00af00\">16</span>, <span style=\"color: #00af00; text-decoration-color: #00af00\">32</span>)     │         <span style=\"color: #00af00; text-decoration-color: #00af00\">4,640</span> │\n",
       "├─────────────────────────────────┼────────────────────────┼───────────────┤\n",
       "│ max_pooling2d_10 (<span style=\"color: #0087ff; text-decoration-color: #0087ff\">MaxPooling2D</span>) │ (<span style=\"color: #00d7ff; text-decoration-color: #00d7ff\">None</span>, <span style=\"color: #00af00; text-decoration-color: #00af00\">8</span>, <span style=\"color: #00af00; text-decoration-color: #00af00\">8</span>, <span style=\"color: #00af00; text-decoration-color: #00af00\">32</span>)       │             <span style=\"color: #00af00; text-decoration-color: #00af00\">0</span> │\n",
       "├─────────────────────────────────┼────────────────────────┼───────────────┤\n",
       "│ conv2d_11 (<span style=\"color: #0087ff; text-decoration-color: #0087ff\">Conv2D</span>)              │ (<span style=\"color: #00d7ff; text-decoration-color: #00d7ff\">None</span>, <span style=\"color: #00af00; text-decoration-color: #00af00\">8</span>, <span style=\"color: #00af00; text-decoration-color: #00af00\">8</span>, <span style=\"color: #00af00; text-decoration-color: #00af00\">64</span>)       │        <span style=\"color: #00af00; text-decoration-color: #00af00\">18,496</span> │\n",
       "├─────────────────────────────────┼────────────────────────┼───────────────┤\n",
       "│ max_pooling2d_11 (<span style=\"color: #0087ff; text-decoration-color: #0087ff\">MaxPooling2D</span>) │ (<span style=\"color: #00d7ff; text-decoration-color: #00d7ff\">None</span>, <span style=\"color: #00af00; text-decoration-color: #00af00\">4</span>, <span style=\"color: #00af00; text-decoration-color: #00af00\">4</span>, <span style=\"color: #00af00; text-decoration-color: #00af00\">64</span>)       │             <span style=\"color: #00af00; text-decoration-color: #00af00\">0</span> │\n",
       "├─────────────────────────────────┼────────────────────────┼───────────────┤\n",
       "│ flatten_3 (<span style=\"color: #0087ff; text-decoration-color: #0087ff\">Flatten</span>)             │ (<span style=\"color: #00d7ff; text-decoration-color: #00d7ff\">None</span>, <span style=\"color: #00af00; text-decoration-color: #00af00\">1024</span>)           │             <span style=\"color: #00af00; text-decoration-color: #00af00\">0</span> │\n",
       "├─────────────────────────────────┼────────────────────────┼───────────────┤\n",
       "│ dense_6 (<span style=\"color: #0087ff; text-decoration-color: #0087ff\">Dense</span>)                 │ (<span style=\"color: #00d7ff; text-decoration-color: #00d7ff\">None</span>, <span style=\"color: #00af00; text-decoration-color: #00af00\">128</span>)            │       <span style=\"color: #00af00; text-decoration-color: #00af00\">131,200</span> │\n",
       "├─────────────────────────────────┼────────────────────────┼───────────────┤\n",
       "│ dense_7 (<span style=\"color: #0087ff; text-decoration-color: #0087ff\">Dense</span>)                 │ (<span style=\"color: #00d7ff; text-decoration-color: #00d7ff\">None</span>, <span style=\"color: #00af00; text-decoration-color: #00af00\">1</span>)              │           <span style=\"color: #00af00; text-decoration-color: #00af00\">129</span> │\n",
       "└─────────────────────────────────┴────────────────────────┴───────────────┘\n",
       "</pre>\n"
      ],
      "text/plain": [
       "┏━━━━━━━━━━━━━━━━━━━━━━━━━━━━━━━━━┳━━━━━━━━━━━━━━━━━━━━━━━━┳━━━━━━━━━━━━━━━┓\n",
       "┃\u001b[1m \u001b[0m\u001b[1mLayer (type)                   \u001b[0m\u001b[1m \u001b[0m┃\u001b[1m \u001b[0m\u001b[1mOutput Shape          \u001b[0m\u001b[1m \u001b[0m┃\u001b[1m \u001b[0m\u001b[1m      Param #\u001b[0m\u001b[1m \u001b[0m┃\n",
       "┡━━━━━━━━━━━━━━━━━━━━━━━━━━━━━━━━━╇━━━━━━━━━━━━━━━━━━━━━━━━╇━━━━━━━━━━━━━━━┩\n",
       "│ rescaling_3 (\u001b[38;5;33mRescaling\u001b[0m)         │ (\u001b[38;5;45mNone\u001b[0m, \u001b[38;5;34m32\u001b[0m, \u001b[38;5;34m32\u001b[0m, \u001b[38;5;34m1\u001b[0m)      │             \u001b[38;5;34m0\u001b[0m │\n",
       "├─────────────────────────────────┼────────────────────────┼───────────────┤\n",
       "│ conv2d_9 (\u001b[38;5;33mConv2D\u001b[0m)               │ (\u001b[38;5;45mNone\u001b[0m, \u001b[38;5;34m32\u001b[0m, \u001b[38;5;34m32\u001b[0m, \u001b[38;5;34m16\u001b[0m)     │           \u001b[38;5;34m160\u001b[0m │\n",
       "├─────────────────────────────────┼────────────────────────┼───────────────┤\n",
       "│ max_pooling2d_9 (\u001b[38;5;33mMaxPooling2D\u001b[0m)  │ (\u001b[38;5;45mNone\u001b[0m, \u001b[38;5;34m16\u001b[0m, \u001b[38;5;34m16\u001b[0m, \u001b[38;5;34m16\u001b[0m)     │             \u001b[38;5;34m0\u001b[0m │\n",
       "├─────────────────────────────────┼────────────────────────┼───────────────┤\n",
       "│ conv2d_10 (\u001b[38;5;33mConv2D\u001b[0m)              │ (\u001b[38;5;45mNone\u001b[0m, \u001b[38;5;34m16\u001b[0m, \u001b[38;5;34m16\u001b[0m, \u001b[38;5;34m32\u001b[0m)     │         \u001b[38;5;34m4,640\u001b[0m │\n",
       "├─────────────────────────────────┼────────────────────────┼───────────────┤\n",
       "│ max_pooling2d_10 (\u001b[38;5;33mMaxPooling2D\u001b[0m) │ (\u001b[38;5;45mNone\u001b[0m, \u001b[38;5;34m8\u001b[0m, \u001b[38;5;34m8\u001b[0m, \u001b[38;5;34m32\u001b[0m)       │             \u001b[38;5;34m0\u001b[0m │\n",
       "├─────────────────────────────────┼────────────────────────┼───────────────┤\n",
       "│ conv2d_11 (\u001b[38;5;33mConv2D\u001b[0m)              │ (\u001b[38;5;45mNone\u001b[0m, \u001b[38;5;34m8\u001b[0m, \u001b[38;5;34m8\u001b[0m, \u001b[38;5;34m64\u001b[0m)       │        \u001b[38;5;34m18,496\u001b[0m │\n",
       "├─────────────────────────────────┼────────────────────────┼───────────────┤\n",
       "│ max_pooling2d_11 (\u001b[38;5;33mMaxPooling2D\u001b[0m) │ (\u001b[38;5;45mNone\u001b[0m, \u001b[38;5;34m4\u001b[0m, \u001b[38;5;34m4\u001b[0m, \u001b[38;5;34m64\u001b[0m)       │             \u001b[38;5;34m0\u001b[0m │\n",
       "├─────────────────────────────────┼────────────────────────┼───────────────┤\n",
       "│ flatten_3 (\u001b[38;5;33mFlatten\u001b[0m)             │ (\u001b[38;5;45mNone\u001b[0m, \u001b[38;5;34m1024\u001b[0m)           │             \u001b[38;5;34m0\u001b[0m │\n",
       "├─────────────────────────────────┼────────────────────────┼───────────────┤\n",
       "│ dense_6 (\u001b[38;5;33mDense\u001b[0m)                 │ (\u001b[38;5;45mNone\u001b[0m, \u001b[38;5;34m128\u001b[0m)            │       \u001b[38;5;34m131,200\u001b[0m │\n",
       "├─────────────────────────────────┼────────────────────────┼───────────────┤\n",
       "│ dense_7 (\u001b[38;5;33mDense\u001b[0m)                 │ (\u001b[38;5;45mNone\u001b[0m, \u001b[38;5;34m1\u001b[0m)              │           \u001b[38;5;34m129\u001b[0m │\n",
       "└─────────────────────────────────┴────────────────────────┴───────────────┘\n"
      ]
     },
     "metadata": {},
     "output_type": "display_data"
    },
    {
     "data": {
      "text/html": [
       "<pre style=\"white-space:pre;overflow-x:auto;line-height:normal;font-family:Menlo,'DejaVu Sans Mono',consolas,'Courier New',monospace\"><span style=\"font-weight: bold\"> Total params: </span><span style=\"color: #00af00; text-decoration-color: #00af00\">154,625</span> (604.00 KB)\n",
       "</pre>\n"
      ],
      "text/plain": [
       "\u001b[1m Total params: \u001b[0m\u001b[38;5;34m154,625\u001b[0m (604.00 KB)\n"
      ]
     },
     "metadata": {},
     "output_type": "display_data"
    },
    {
     "data": {
      "text/html": [
       "<pre style=\"white-space:pre;overflow-x:auto;line-height:normal;font-family:Menlo,'DejaVu Sans Mono',consolas,'Courier New',monospace\"><span style=\"font-weight: bold\"> Trainable params: </span><span style=\"color: #00af00; text-decoration-color: #00af00\">154,625</span> (604.00 KB)\n",
       "</pre>\n"
      ],
      "text/plain": [
       "\u001b[1m Trainable params: \u001b[0m\u001b[38;5;34m154,625\u001b[0m (604.00 KB)\n"
      ]
     },
     "metadata": {},
     "output_type": "display_data"
    },
    {
     "data": {
      "text/html": [
       "<pre style=\"white-space:pre;overflow-x:auto;line-height:normal;font-family:Menlo,'DejaVu Sans Mono',consolas,'Courier New',monospace\"><span style=\"font-weight: bold\"> Non-trainable params: </span><span style=\"color: #00af00; text-decoration-color: #00af00\">0</span> (0.00 B)\n",
       "</pre>\n"
      ],
      "text/plain": [
       "\u001b[1m Non-trainable params: \u001b[0m\u001b[38;5;34m0\u001b[0m (0.00 B)\n"
      ]
     },
     "metadata": {},
     "output_type": "display_data"
    }
   ],
   "source": [
    "model.summary()"
   ]
  },
  {
   "cell_type": "code",
   "execution_count": 58,
   "id": "70c70bb2",
   "metadata": {},
   "outputs": [
    {
     "name": "stdout",
     "output_type": "stream",
     "text": [
      "Epoch 1/10\n",
      "\u001b[1m1800/1800\u001b[0m \u001b[32m━━━━━━━━━━━━━━━━━━━━\u001b[0m\u001b[37m\u001b[0m \u001b[1m199s\u001b[0m 109ms/step - accuracy: 0.8503 - loss: 0.3515 - val_accuracy: 0.8844 - val_loss: 0.2676\n",
      "Epoch 2/10\n",
      "\u001b[1m1800/1800\u001b[0m \u001b[32m━━━━━━━━━━━━━━━━━━━━\u001b[0m\u001b[37m\u001b[0m \u001b[1m29s\u001b[0m 16ms/step - accuracy: 0.9020 - loss: 0.2242 - val_accuracy: 0.9428 - val_loss: 0.1501\n",
      "Epoch 3/10\n",
      "\u001b[1m1800/1800\u001b[0m \u001b[32m━━━━━━━━━━━━━━━━━━━━\u001b[0m\u001b[37m\u001b[0m \u001b[1m28s\u001b[0m 15ms/step - accuracy: 0.9645 - loss: 0.0959 - val_accuracy: 0.9867 - val_loss: 0.0472\n",
      "Epoch 4/10\n",
      "\u001b[1m1800/1800\u001b[0m \u001b[32m━━━━━━━━━━━━━━━━━━━━\u001b[0m\u001b[37m\u001b[0m \u001b[1m28s\u001b[0m 16ms/step - accuracy: 0.9898 - loss: 0.0322 - val_accuracy: 0.9981 - val_loss: 0.0111\n",
      "Epoch 5/10\n",
      "\u001b[1m1800/1800\u001b[0m \u001b[32m━━━━━━━━━━━━━━━━━━━━\u001b[0m\u001b[37m\u001b[0m \u001b[1m28s\u001b[0m 16ms/step - accuracy: 0.9932 - loss: 0.0205 - val_accuracy: 0.9992 - val_loss: 0.0036\n",
      "Epoch 6/10\n",
      "\u001b[1m1800/1800\u001b[0m \u001b[32m━━━━━━━━━━━━━━━━━━━━\u001b[0m\u001b[37m\u001b[0m \u001b[1m28s\u001b[0m 15ms/step - accuracy: 0.9999 - loss: 0.0010 - val_accuracy: 1.0000 - val_loss: 1.8455e-04\n",
      "Epoch 7/10\n",
      "\u001b[1m1800/1800\u001b[0m \u001b[32m━━━━━━━━━━━━━━━━━━━━\u001b[0m\u001b[37m\u001b[0m \u001b[1m28s\u001b[0m 16ms/step - accuracy: 1.0000 - loss: 8.6351e-05 - val_accuracy: 1.0000 - val_loss: 6.3082e-05\n",
      "Epoch 8/10\n",
      "\u001b[1m1800/1800\u001b[0m \u001b[32m━━━━━━━━━━━━━━━━━━━━\u001b[0m\u001b[37m\u001b[0m \u001b[1m28s\u001b[0m 15ms/step - accuracy: 1.0000 - loss: 3.2161e-05 - val_accuracy: 1.0000 - val_loss: 2.4994e-05\n",
      "Epoch 9/10\n",
      "\u001b[1m1800/1800\u001b[0m \u001b[32m━━━━━━━━━━━━━━━━━━━━\u001b[0m\u001b[37m\u001b[0m \u001b[1m28s\u001b[0m 16ms/step - accuracy: 1.0000 - loss: 1.2578e-05 - val_accuracy: 1.0000 - val_loss: 9.7396e-06\n",
      "Epoch 10/10\n",
      "\u001b[1m1800/1800\u001b[0m \u001b[32m━━━━━━━━━━━━━━━━━━━━\u001b[0m\u001b[37m\u001b[0m \u001b[1m28s\u001b[0m 15ms/step - accuracy: 1.0000 - loss: 4.8673e-06 - val_accuracy: 1.0000 - val_loss: 3.7036e-06\n"
     ]
    }
   ],
   "source": [
    "epochs=10\n",
    "history = model.fit(\n",
    "  train_data,\n",
    "  validation_data=val_data,\n",
    "  epochs=epochs\n",
    ")"
   ]
  },
  {
   "cell_type": "code",
   "execution_count": 59,
   "id": "587c0d97",
   "metadata": {},
   "outputs": [
    {
     "data": {
      "image/png": "[encoded data removed]",
      "text/plain": [
       "<Figure size 800x800 with 2 Axes>"
      ]
     },
     "metadata": {},
     "output_type": "display_data"
    }
   ],
   "source": [
    "acc = history.history['accuracy']\n",
    "val_acc = history.history['val_accuracy']\n",
    "\n",
    "loss = history.history['loss']\n",
    "val_loss = history.history['val_loss']\n",
    "\n",
    "epochs_range = range(epochs)\n",
    "\n",
    "plt.figure(figsize=(8, 8))\n",
    "plt.subplot(1, 2, 1)\n",
    "plt.plot(epochs_range, acc, label='Training Accuracy')\n",
    "plt.plot(epochs_range, val_acc, label='Validation Accuracy')\n",
    "plt.legend(loc='lower right')\n",
    "plt.title('Training and Validation Accuracy')\n",
    "\n",
    "plt.subplot(1, 2, 2)\n",
    "plt.plot(epochs_range, loss, label='Training Loss')\n",
    "plt.plot(epochs_range, val_loss, label='Validation Loss')\n",
    "plt.legend(loc='upper right')\n",
    "plt.title('Training and Validation Loss')\n",
    "plt.show()\n"
   ]
  },
  {
   "cell_type": "code",
   "execution_count": null,
   "id": "76ac62c3",
   "metadata": {},
   "outputs": [
    {
     "name": "stdout",
     "output_type": "stream",
     "text": [
      "\u001b[1m1125/1125\u001b[0m \u001b[32m━━━━━━━━━━━━━━━━━━━━\u001b[0m\u001b[37m\u001b[0m \u001b[1m7s\u001b[0m 6ms/step\n",
      "F1 (binary): 0.47505270555165147\n",
      "              precision    recall  f1-score   support\n",
      "\n",
      "     damaged       0.89      0.91      0.90     30000\n",
      "        good       0.50      0.45      0.48      6000\n",
      "\n",
      "    accuracy                           0.83     36000\n",
      "   macro avg       0.70      0.68      0.69     36000\n",
      "weighted avg       0.83      0.83      0.83     36000\n",
      "\n"
     ]
    }
   ],
   "source": [
    "# y_true from test_data\n",
    "y_true = np.concatenate([y.numpy() for _, y in test_data])\n",
    "\n",
    "# predict\n",
    "y_prob = model.predict(test_data).ravel()     \n",
    "y_pred = (y_prob >= 0.5).astype(int)\n",
    "\n",
    "print(\"F1 (binary):\", f1_score(y_true, y_pred, average='binary'))\n",
    "print(classification_report(y_true, y_pred, target_names=class_names))"
   ]
  }
 ],
 "metadata": {
  "kernelspec": {
   "display_name": "Python 3",
   "language": "python",
   "name": "python3"
  },
  "language_info": {
   "codemirror_mode": {
    "name": "ipython",
    "version": 3
   },
   "file_extension": ".py",
   "mimetype": "text/x-python",
   "name": "python",
   "nbconvert_exporter": "python",
   "pygments_lexer": "ipython3",
   "version": "3.10.11"
  }
 },
 "nbformat": 4,
 "nbformat_minor": 5
}
